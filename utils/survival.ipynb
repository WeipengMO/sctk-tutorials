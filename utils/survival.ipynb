{
 "cells": [
  {
   "cell_type": "code",
   "execution_count": 1,
   "metadata": {},
   "outputs": [],
   "source": [
    "from matplotlib import pyplot as plt\n",
    "import matplotlib.ticker as ticker\n",
    "import matplotlib as mpl\n",
    "import matplotlib.patches as mp\n",
    "import seaborn as sns\n",
    "    \n",
    "plt.rcParams[\"font.family\"] = \"Arial\"\n",
    "plt.rcParams['svg.fonttype'] = 'none'"
   ]
  },
  {
   "cell_type": "code",
   "execution_count": 2,
   "metadata": {},
   "outputs": [],
   "source": [
    "import scanpy as sc\n",
    "import decoupler as dc\n",
    "import pandas as pd\n",
    "import numpy as np\n",
    "from loguru import logger\n",
    "\n",
    "import warnings\n",
    "warnings.simplefilter(action='ignore', category=FutureWarning)\n",
    "\n",
    "import sys\n",
    "sys.path.append('/home/mowp/workspace/mowp_scripts/tools')\n",
    "\n",
    "import os\n",
    "os.environ['R_HOME'] = '/home/mowp/mambaforge/envs/sc/lib/R'\n",
    "\n",
    "import sctk"
   ]
  },
  {
   "cell_type": "code",
   "execution_count": 3,
   "metadata": {},
   "outputs": [],
   "source": [
    "exp_data = '/data/user/mowp/data/supp/tcga/hnscc/TCGA.HNSC.sampleMap%2FHiSeqV2.gz'\n",
    "meta_data = '/data/user/mowp/data/supp/tcga/hnscc/survival_HNSC_survival.txt'"
   ]
  },
  {
   "cell_type": "code",
   "execution_count": 4,
   "metadata": {},
   "outputs": [],
   "source": [
    "adata = sctk.utils.Survival(\n",
    "    exp_data, \n",
    "    meta_data,\n",
    "    meta_index_col='sample')"
   ]
  },
  {
   "cell_type": "code",
   "execution_count": 5,
   "metadata": {},
   "outputs": [
    {
     "data": {
      "text/plain": [
       "AnnData object with n_obs × n_vars = 566 × 20530\n",
       "    obs: '_PATIENT', 'OS', 'OS.time', 'DSS', 'DSS.time', 'DFI', 'DFI.time', 'PFI', 'PFI.time', 'Redaction'"
      ]
     },
     "execution_count": 5,
     "metadata": {},
     "output_type": "execute_result"
    }
   ],
   "source": [
    "adata"
   ]
  },
  {
   "cell_type": "code",
   "execution_count": 6,
   "metadata": {},
   "outputs": [
    {
     "data": {
      "text/html": [
       "<div>\n",
       "<style scoped>\n",
       "    .dataframe tbody tr th:only-of-type {\n",
       "        vertical-align: middle;\n",
       "    }\n",
       "\n",
       "    .dataframe tbody tr th {\n",
       "        vertical-align: top;\n",
       "    }\n",
       "\n",
       "    .dataframe thead th {\n",
       "        text-align: right;\n",
       "    }\n",
       "</style>\n",
       "<table border=\"1\" class=\"dataframe\">\n",
       "  <thead>\n",
       "    <tr style=\"text-align: right;\">\n",
       "      <th></th>\n",
       "      <th>_PATIENT</th>\n",
       "      <th>OS</th>\n",
       "      <th>OS.time</th>\n",
       "      <th>DSS</th>\n",
       "      <th>DSS.time</th>\n",
       "      <th>DFI</th>\n",
       "      <th>DFI.time</th>\n",
       "      <th>PFI</th>\n",
       "      <th>PFI.time</th>\n",
       "      <th>Redaction</th>\n",
       "    </tr>\n",
       "  </thead>\n",
       "  <tbody>\n",
       "    <tr>\n",
       "      <th>TCGA-CR-7383-01</th>\n",
       "      <td>TCGA-CR-7383</td>\n",
       "      <td>1</td>\n",
       "      <td>521.0</td>\n",
       "      <td>1.0</td>\n",
       "      <td>521.0</td>\n",
       "      <td>1.0</td>\n",
       "      <td>454.0</td>\n",
       "      <td>1</td>\n",
       "      <td>454.0</td>\n",
       "      <td>NaN</td>\n",
       "    </tr>\n",
       "    <tr>\n",
       "      <th>TCGA-CR-7398-01</th>\n",
       "      <td>TCGA-CR-7398</td>\n",
       "      <td>0</td>\n",
       "      <td>156.0</td>\n",
       "      <td>0.0</td>\n",
       "      <td>156.0</td>\n",
       "      <td>0.0</td>\n",
       "      <td>156.0</td>\n",
       "      <td>0</td>\n",
       "      <td>156.0</td>\n",
       "      <td>NaN</td>\n",
       "    </tr>\n",
       "    <tr>\n",
       "      <th>TCGA-CV-A6JT-01</th>\n",
       "      <td>TCGA-CV-A6JT</td>\n",
       "      <td>0</td>\n",
       "      <td>852.0</td>\n",
       "      <td>0.0</td>\n",
       "      <td>852.0</td>\n",
       "      <td>0.0</td>\n",
       "      <td>852.0</td>\n",
       "      <td>0</td>\n",
       "      <td>852.0</td>\n",
       "      <td>NaN</td>\n",
       "    </tr>\n",
       "    <tr>\n",
       "      <th>TCGA-HD-8635-01</th>\n",
       "      <td>TCGA-HD-8635</td>\n",
       "      <td>0</td>\n",
       "      <td>695.0</td>\n",
       "      <td>0.0</td>\n",
       "      <td>695.0</td>\n",
       "      <td>0.0</td>\n",
       "      <td>695.0</td>\n",
       "      <td>0</td>\n",
       "      <td>695.0</td>\n",
       "      <td>NaN</td>\n",
       "    </tr>\n",
       "    <tr>\n",
       "      <th>TCGA-CR-6481-01</th>\n",
       "      <td>TCGA-CR-6481</td>\n",
       "      <td>0</td>\n",
       "      <td>311.0</td>\n",
       "      <td>0.0</td>\n",
       "      <td>311.0</td>\n",
       "      <td>NaN</td>\n",
       "      <td>NaN</td>\n",
       "      <td>0</td>\n",
       "      <td>311.0</td>\n",
       "      <td>NaN</td>\n",
       "    </tr>\n",
       "    <tr>\n",
       "      <th>...</th>\n",
       "      <td>...</td>\n",
       "      <td>...</td>\n",
       "      <td>...</td>\n",
       "      <td>...</td>\n",
       "      <td>...</td>\n",
       "      <td>...</td>\n",
       "      <td>...</td>\n",
       "      <td>...</td>\n",
       "      <td>...</td>\n",
       "      <td>...</td>\n",
       "    </tr>\n",
       "    <tr>\n",
       "      <th>TCGA-QK-A6VB-01</th>\n",
       "      <td>TCGA-QK-A6VB</td>\n",
       "      <td>0</td>\n",
       "      <td>641.0</td>\n",
       "      <td>0.0</td>\n",
       "      <td>641.0</td>\n",
       "      <td>NaN</td>\n",
       "      <td>NaN</td>\n",
       "      <td>1</td>\n",
       "      <td>613.0</td>\n",
       "      <td>NaN</td>\n",
       "    </tr>\n",
       "    <tr>\n",
       "      <th>TCGA-MT-A51X-01</th>\n",
       "      <td>TCGA-MT-A51X</td>\n",
       "      <td>0</td>\n",
       "      <td>242.0</td>\n",
       "      <td>0.0</td>\n",
       "      <td>242.0</td>\n",
       "      <td>NaN</td>\n",
       "      <td>NaN</td>\n",
       "      <td>0</td>\n",
       "      <td>242.0</td>\n",
       "      <td>NaN</td>\n",
       "    </tr>\n",
       "    <tr>\n",
       "      <th>TCGA-T3-A92N-01</th>\n",
       "      <td>TCGA-T3-A92N</td>\n",
       "      <td>1</td>\n",
       "      <td>95.0</td>\n",
       "      <td>1.0</td>\n",
       "      <td>95.0</td>\n",
       "      <td>NaN</td>\n",
       "      <td>NaN</td>\n",
       "      <td>1</td>\n",
       "      <td>46.0</td>\n",
       "      <td>NaN</td>\n",
       "    </tr>\n",
       "    <tr>\n",
       "      <th>TCGA-CR-6472-01</th>\n",
       "      <td>TCGA-CR-6472</td>\n",
       "      <td>0</td>\n",
       "      <td>1050.0</td>\n",
       "      <td>0.0</td>\n",
       "      <td>1050.0</td>\n",
       "      <td>NaN</td>\n",
       "      <td>NaN</td>\n",
       "      <td>0</td>\n",
       "      <td>1050.0</td>\n",
       "      <td>NaN</td>\n",
       "    </tr>\n",
       "    <tr>\n",
       "      <th>TCGA-D6-A6EM-01</th>\n",
       "      <td>TCGA-D6-A6EM</td>\n",
       "      <td>0</td>\n",
       "      <td>232.0</td>\n",
       "      <td>0.0</td>\n",
       "      <td>232.0</td>\n",
       "      <td>1.0</td>\n",
       "      <td>232.0</td>\n",
       "      <td>1</td>\n",
       "      <td>232.0</td>\n",
       "      <td>NaN</td>\n",
       "    </tr>\n",
       "  </tbody>\n",
       "</table>\n",
       "<p>566 rows × 10 columns</p>\n",
       "</div>"
      ],
      "text/plain": [
       "                     _PATIENT  OS  OS.time  DSS  DSS.time  DFI  DFI.time  PFI  \\\n",
       "TCGA-CR-7383-01  TCGA-CR-7383   1    521.0  1.0     521.0  1.0     454.0    1   \n",
       "TCGA-CR-7398-01  TCGA-CR-7398   0    156.0  0.0     156.0  0.0     156.0    0   \n",
       "TCGA-CV-A6JT-01  TCGA-CV-A6JT   0    852.0  0.0     852.0  0.0     852.0    0   \n",
       "TCGA-HD-8635-01  TCGA-HD-8635   0    695.0  0.0     695.0  0.0     695.0    0   \n",
       "TCGA-CR-6481-01  TCGA-CR-6481   0    311.0  0.0     311.0  NaN       NaN    0   \n",
       "...                       ...  ..      ...  ...       ...  ...       ...  ...   \n",
       "TCGA-QK-A6VB-01  TCGA-QK-A6VB   0    641.0  0.0     641.0  NaN       NaN    1   \n",
       "TCGA-MT-A51X-01  TCGA-MT-A51X   0    242.0  0.0     242.0  NaN       NaN    0   \n",
       "TCGA-T3-A92N-01  TCGA-T3-A92N   1     95.0  1.0      95.0  NaN       NaN    1   \n",
       "TCGA-CR-6472-01  TCGA-CR-6472   0   1050.0  0.0    1050.0  NaN       NaN    0   \n",
       "TCGA-D6-A6EM-01  TCGA-D6-A6EM   0    232.0  0.0     232.0  1.0     232.0    1   \n",
       "\n",
       "                 PFI.time  Redaction  \n",
       "TCGA-CR-7383-01     454.0        NaN  \n",
       "TCGA-CR-7398-01     156.0        NaN  \n",
       "TCGA-CV-A6JT-01     852.0        NaN  \n",
       "TCGA-HD-8635-01     695.0        NaN  \n",
       "TCGA-CR-6481-01     311.0        NaN  \n",
       "...                   ...        ...  \n",
       "TCGA-QK-A6VB-01     613.0        NaN  \n",
       "TCGA-MT-A51X-01     242.0        NaN  \n",
       "TCGA-T3-A92N-01      46.0        NaN  \n",
       "TCGA-CR-6472-01    1050.0        NaN  \n",
       "TCGA-D6-A6EM-01     232.0        NaN  \n",
       "\n",
       "[566 rows x 10 columns]"
      ]
     },
     "execution_count": 6,
     "metadata": {},
     "output_type": "execute_result"
    }
   ],
   "source": [
    "adata.obs"
   ]
  },
  {
   "cell_type": "markdown",
   "metadata": {},
   "source": [
    "### gene"
   ]
  },
  {
   "cell_type": "code",
   "execution_count": 8,
   "metadata": {},
   "outputs": [],
   "source": [
    "adata.group_meta(\n",
    "    groupby='DKK1', \n",
    "    group_method='median',\n",
    "    event='OS',\n",
    "    time='OS.time')"
   ]
  },
  {
   "cell_type": "code",
   "execution_count": 11,
   "metadata": {},
   "outputs": [
    {
     "name": "stdout",
     "output_type": "stream",
     "text": [
      "Group Low: 282\n",
      "Group High: 283\n",
      "results.p_value=7.6109778464430016e-06\n",
      "results.test_statistic=20.03318619587428\n"
     ]
    },
    {
     "data": {
      "image/png": "[encoded data removed]",
      "text/plain": [
       "<Figure size 300x300 with 1 Axes>"
      ]
     },
     "metadata": {},
     "output_type": "display_data"
    }
   ],
   "source": [
    "ax = adata.km_plot(xlabel='Days')"
   ]
  },
  {
   "cell_type": "code",
   "execution_count": null,
   "metadata": {},
   "outputs": [],
   "source": []
  },
  {
   "cell_type": "markdown",
   "metadata": {},
   "source": [
    "### gene signature"
   ]
  },
  {
   "cell_type": "code",
   "execution_count": 7,
   "metadata": {},
   "outputs": [],
   "source": [
    "gene_list = ['FOXP3', 'CTLA4', 'CCR8', 'TNFRSF9']\n",
    "\n",
    "adata.group_meta(\n",
    "    groupby=gene_list, \n",
    "    group_method='median',\n",
    "    event='OS',\n",
    "    time='OS.time')"
   ]
  },
  {
   "cell_type": "code",
   "execution_count": 13,
   "metadata": {},
   "outputs": [
    {
     "name": "stdout",
     "output_type": "stream",
     "text": [
      "Group Low: 283\n",
      "Group High: 282\n",
      "results.p_value=0.0005264899678499308\n",
      "results.test_statistic=12.019423064157133\n"
     ]
    },
    {
     "data": {
      "image/png": "[encoded data removed]",
      "text/plain": [
       "<Figure size 300x300 with 1 Axes>"
      ]
     },
     "metadata": {},
     "output_type": "display_data"
    }
   ],
   "source": [
    "ax = adata.km_plot(xlabel='Days')"
   ]
  },
  {
   "cell_type": "markdown",
   "metadata": {},
   "source": [
    "### set time limit"
   ]
  },
  {
   "cell_type": "code",
   "execution_count": 10,
   "metadata": {},
   "outputs": [],
   "source": [
    "adata.obs['OS.time'] = adata.obs['OS.time'] / 30"
   ]
  },
  {
   "cell_type": "code",
   "execution_count": 11,
   "metadata": {},
   "outputs": [],
   "source": [
    "gene_signatures ={\n",
    "    'Cytotoxicity': ['GZMA', 'GZMB', 'PRF1', 'IFNG', 'NKG7'],\n",
    "    'Exhaustion': ['PDCD1', 'HAVCR2', 'LAG3', 'CTLA4', 'TIGIT'],\n",
    "    'Proliferation': ['MKI67', 'PCNA', 'TOP2A', 'CCNB1', 'CCNB2'],\n",
    "}"
   ]
  },
  {
   "cell_type": "code",
   "execution_count": 12,
   "metadata": {},
   "outputs": [
    {
     "name": "stdout",
     "output_type": "stream",
     "text": [
      "Group Low: 232\n",
      "Group High: 232\n",
      "results.p_value=0.006393683402060335\n",
      "results.test_statistic=7.4358591171370705\n",
      "Group Low: 232\n",
      "Group High: 232\n",
      "results.p_value=0.007858241387735205\n",
      "results.test_statistic=7.065499218645687\n",
      "Group Low: 232\n",
      "Group High: 232\n",
      "results.p_value=0.5257542629734311\n",
      "results.test_statistic=0.402590840997315\n"
     ]
    },
    {
     "data": {
      "image/png": "[encoded data removed]",
      "text/plain": [
       "<Figure size 900x300 with 3 Axes>"
      ]
     },
     "metadata": {},
     "output_type": "display_data"
    }
   ],
   "source": [
    "# Calculate the number of rows needed for subplots\n",
    "n_clusters = len(gene_signatures)\n",
    "n_cols = 3\n",
    "n_rows = -(-n_clusters // n_cols)  # Ceiling division\n",
    "\n",
    "# Create subplot grid\n",
    "fig, axes = plt.subplots(n_rows, n_cols, figsize=(n_cols*3, n_rows * 3))\n",
    "axes = axes.flatten()  # Flatten the axes array for easy indexing\n",
    "\n",
    "# Iterate over clusters and their indices\n",
    "for idx, cluster in enumerate(gene_signatures):\n",
    "    genes = gene_signatures[cluster]\n",
    "    adata.group_meta(\n",
    "        groupby=genes, group_method='median', \n",
    "        event='OS', time='OS.time', time_limit=50)\n",
    "    \n",
    "    # Plot on the specific subplot axis\n",
    "    adata.km_plot(ax=axes[idx], xlabel='Months')\n",
    "    axes[idx].set_title(cluster)\n",
    "\n",
    "# Hide any unused axes if the number of clusters is not a multiple of n_cols\n",
    "for ax in axes[n_clusters:]:\n",
    "    ax.set_visible(False)\n",
    "\n",
    "plt.tight_layout()\n",
    "plt.show()"
   ]
  },
  {
   "cell_type": "code",
   "execution_count": null,
   "metadata": {},
   "outputs": [],
   "source": []
  }
 ],
 "metadata": {
  "kernelspec": {
   "display_name": "sc",
   "language": "python",
   "name": "sc"
  },
  "language_info": {
   "codemirror_mode": {
    "name": "ipython",
    "version": 3
   },
   "file_extension": ".py",
   "mimetype": "text/x-python",
   "name": "python",
   "nbconvert_exporter": "python",
   "pygments_lexer": "ipython3",
   "version": "3.9.18"
  }
 },
 "nbformat": 4,
 "nbformat_minor": 2
}
