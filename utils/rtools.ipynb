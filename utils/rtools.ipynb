{
 "cells": [
  {
   "cell_type": "code",
   "execution_count": 1,
   "metadata": {},
   "outputs": [],
   "source": [
    "%load_ext rpy2.ipython\n",
    "%load_ext autoreload\n",
    "%autoreload 1"
   ]
  },
  {
   "cell_type": "code",
   "execution_count": 2,
   "metadata": {},
   "outputs": [],
   "source": [
    "import sys\n",
    "sys.path.append('/home/mowp/workspace/mowp_scripts/tools/utils')"
   ]
  },
  {
   "cell_type": "code",
   "execution_count": 3,
   "metadata": {},
   "outputs": [],
   "source": [
    "%aimport rtools"
   ]
  },
  {
   "cell_type": "code",
   "execution_count": 4,
   "metadata": {},
   "outputs": [],
   "source": [
    "import pandas as pd\n",
    "import numpy as np\n",
    "import rpy2.robjects as ro\n",
    "from rpy2.robjects.packages import importr\n",
    "R = ro.r"
   ]
  },
  {
   "cell_type": "markdown",
   "metadata": {},
   "source": [
    "# python to R"
   ]
  },
  {
   "cell_type": "markdown",
   "metadata": {},
   "source": [
    "## convert adata to SingleCellExperiment"
   ]
  },
  {
   "cell_type": "code",
   "execution_count": 5,
   "metadata": {},
   "outputs": [],
   "source": [
    "import scanpy as sc"
   ]
  },
  {
   "cell_type": "code",
   "execution_count": 6,
   "metadata": {},
   "outputs": [
    {
     "name": "stderr",
     "output_type": "stream",
     "text": [
      "/home/mowp/mambaforge/envs/sc/lib/python3.9/site-packages/anndata/_core/anndata.py:1840: UserWarning: Variable names are not unique. To make them unique, call `.var_names_make_unique`.\n",
      "  utils.warn_names_duplicates(\"var\")\n"
     ]
    },
    {
     "data": {
      "text/plain": [
       "AnnData object with n_obs × n_vars = 16934 × 36601\n",
       "    var: 'gene_ids', 'feature_types', 'genome'"
      ]
     },
     "execution_count": 6,
     "metadata": {},
     "output_type": "execute_result"
    }
   ],
   "source": [
    "adata = sc.read_10x_h5(\n",
    "    filename=\"/home/mowp/workspace/single_cell_analysis/single-cell-best-practics/dataset/filtered_feature_bc_matrix.h5\",\n",
    "    # backup_url=\"https://figshare.com/ndownloader/files/39546196\",\n",
    ")\n",
    "adata.var_names_make_unique()\n",
    "adata"
   ]
  },
  {
   "cell_type": "code",
   "execution_count": 7,
   "metadata": {},
   "outputs": [
    {
     "name": "stdout",
     "output_type": "stream",
     "text": [
      "\n",
      "    WARNING: The R package \"reticulate\" only fixed recently\n",
      "    an issue that caused a segfault when used with rpy2:\n",
      "    https://github.com/rstudio/reticulate/pull/1188\n",
      "    Make sure that you use a version of that package that includes\n",
      "    the fix.\n",
      "    "
     ]
    }
   ],
   "source": [
    "adata_r = rtools.py2r(adata)"
   ]
  },
  {
   "cell_type": "code",
   "execution_count": 8,
   "metadata": {},
   "outputs": [
    {
     "data": {
      "text/plain": [
       "<rpy2.robjects.methods.RS4 object at 0x7f11d6bdfdc0> [RTYPES.S4SXP]\n",
       "R classes: ('SingleCellExperiment',)"
      ]
     },
     "execution_count": 8,
     "metadata": {},
     "output_type": "execute_result"
    }
   ],
   "source": [
    "adata_r"
   ]
  },
  {
   "cell_type": "code",
   "execution_count": 9,
   "metadata": {},
   "outputs": [
    {
     "name": "stdout",
     "output_type": "stream",
     "text": [
      "class: SingleCellExperiment \n",
      "dim: 36601 16934 \n",
      "metadata(0):\n",
      "assays(1): X\n",
      "rownames(36601): MIR1302-2HG FAM138A ... AC007325.4 AC007325.2\n",
      "rowData names(4): gene_ids feature_types genome temp_featureName\n",
      "colnames(16934): AAACAGCCAAGCTTAT-1 AAACAGCCATAGCTTG-1 ...\n",
      "  TTTGTTGGTTTACTTG-1 TTTGTTGGTTTGTGGA-1\n",
      "colData names(1): temp_barcodeName\n",
      "reducedDimNames(0):\n",
      "mainExpName: NULL\n",
      "altExpNames(0):\n"
     ]
    }
   ],
   "source": [
    "%%R -i adata_r\n",
    "\n",
    "adata_r"
   ]
  },
  {
   "cell_type": "markdown",
   "metadata": {},
   "source": [
    "## convert adata to seurat object"
   ]
  },
  {
   "cell_type": "code",
   "execution_count": 10,
   "metadata": {},
   "outputs": [
    {
     "name": "stderr",
     "output_type": "stream",
     "text": [
      "/home/mowp/mambaforge/envs/sc/lib/python3.9/site-packages/anndata/_core/anndata.py:1840: UserWarning: Variable names are not unique. To make them unique, call `.var_names_make_unique`.\n",
      "  utils.warn_names_duplicates(\"var\")\n"
     ]
    },
    {
     "data": {
      "text/plain": [
       "AnnData object with n_obs × n_vars = 16934 × 36601\n",
       "    var: 'gene_ids', 'feature_types', 'genome'"
      ]
     },
     "execution_count": 10,
     "metadata": {},
     "output_type": "execute_result"
    }
   ],
   "source": [
    "adata = sc.read_10x_h5(\n",
    "    filename=\"/home/mowp/workspace/single_cell_analysis/single-cell-best-practics/dataset/filtered_feature_bc_matrix.h5\",\n",
    "    # backup_url=\"https://figshare.com/ndownloader/files/39546196\",\n",
    ")\n",
    "adata.var_names_make_unique()\n",
    "adata"
   ]
  },
  {
   "cell_type": "code",
   "execution_count": 11,
   "metadata": {},
   "outputs": [],
   "source": [
    "adata.layers['raw'] = adata.X"
   ]
  },
  {
   "cell_type": "code",
   "execution_count": 12,
   "metadata": {},
   "outputs": [
    {
     "data": {
      "text/plain": [
       "AnnData object with n_obs × n_vars = 16934 × 36601\n",
       "    var: 'gene_ids', 'feature_types', 'genome'\n",
       "    layers: 'raw'"
      ]
     },
     "execution_count": 12,
     "metadata": {},
     "output_type": "execute_result"
    }
   ],
   "source": [
    "adata"
   ]
  },
  {
   "cell_type": "code",
   "execution_count": 13,
   "metadata": {},
   "outputs": [],
   "source": [
    "sobj_r = rtools.ad2so(adata)"
   ]
  },
  {
   "cell_type": "code",
   "execution_count": 14,
   "metadata": {},
   "outputs": [
    {
     "name": "stdout",
     "output_type": "stream",
     "text": [
      "An object of class Seurat \n",
      "36601 features across 16934 samples within 1 assay \n",
      "Active assay: RNA (36601 features, 0 variable features)\n"
     ]
    }
   ],
   "source": [
    "%%R -i sobj_r\n",
    "\n",
    "sobj_r"
   ]
  },
  {
   "cell_type": "markdown",
   "metadata": {},
   "source": [
    "## Convert pandas dataframe"
   ]
  },
  {
   "cell_type": "code",
   "execution_count": 37,
   "metadata": {},
   "outputs": [],
   "source": [
    "df = pd.DataFrame(np.random.rand(1000, 10))"
   ]
  },
  {
   "cell_type": "code",
   "execution_count": 38,
   "metadata": {},
   "outputs": [],
   "source": [
    "df_r = rtools.py2r(df)"
   ]
  },
  {
   "cell_type": "markdown",
   "metadata": {},
   "source": [
    "## convert array"
   ]
  },
  {
   "cell_type": "code",
   "execution_count": 40,
   "metadata": {},
   "outputs": [],
   "source": [
    "a = np.array([1, 2, 3, 4, 5])\n",
    "a_r = rtools.py2r(a)"
   ]
  },
  {
   "cell_type": "code",
   "execution_count": 41,
   "metadata": {},
   "outputs": [
    {
     "name": "stdout",
     "output_type": "stream",
     "text": [
      "[1] 1 2 3 4 5\n"
     ]
    }
   ],
   "source": [
    "%%R -i a_r\n",
    "\n",
    "a_r"
   ]
  },
  {
   "cell_type": "code",
   "execution_count": 42,
   "metadata": {},
   "outputs": [],
   "source": [
    "a = np.array(['a', 'b', 'c', 'd'])\n",
    "a_r = rtools.py2r(a)"
   ]
  },
  {
   "cell_type": "code",
   "execution_count": 43,
   "metadata": {},
   "outputs": [
    {
     "name": "stdout",
     "output_type": "stream",
     "text": [
      "[1] \"a\" \"b\" \"c\" \"d\"\n"
     ]
    }
   ],
   "source": [
    "%%R -i a_r\n",
    "\n",
    "a_r"
   ]
  },
  {
   "cell_type": "markdown",
   "metadata": {},
   "source": [
    "# R to python"
   ]
  },
  {
   "cell_type": "markdown",
   "metadata": {},
   "source": [
    "## convert seurat object to adata"
   ]
  },
  {
   "cell_type": "code",
   "execution_count": null,
   "metadata": {},
   "outputs": [],
   "source": [
    "%%R\n",
    "\n",
    "library(Seurat)\n",
    "\n",
    "pbmc_data <- Read10X(data.dir = \"/data/user/mowp/data/scRNA/pbmc3k/filtered_gene_bc_matrices/hg19\")\n",
    "pbmc <- CreateSeuratObject(counts = pbmc_data)"
   ]
  },
  {
   "cell_type": "code",
   "execution_count": 15,
   "metadata": {},
   "outputs": [
    {
     "name": "stdout",
     "output_type": "stream",
     "text": [
      "An object of class Seurat \n",
      "32738 features across 2700 samples within 1 assay \n",
      "Active assay: RNA (32738 features, 0 variable features)\n"
     ]
    }
   ],
   "source": [
    "%%R\n",
    "\n",
    "pbmc"
   ]
  },
  {
   "cell_type": "code",
   "execution_count": 13,
   "metadata": {},
   "outputs": [
    {
     "name": "stderr",
     "output_type": "stream",
     "text": [
      "\u001b[32m2023-10-07 16:59:30.599\u001b[0m | \u001b[1mINFO    \u001b[0m | \u001b[36mrtools\u001b[0m:\u001b[36mso2ad\u001b[0m:\u001b[36m578\u001b[0m - \u001b[1massay RNA: No variable features are calculated. Pass\u001b[0m\n"
     ]
    }
   ],
   "source": [
    "pbmc = rtools.so2ad(ro.globalenv['pbmc'])"
   ]
  },
  {
   "cell_type": "code",
   "execution_count": 14,
   "metadata": {},
   "outputs": [
    {
     "data": {
      "text/plain": [
       "AnnData object with n_obs × n_vars = 2700 × 32738\n",
       "    obs: 'orig.ident', 'nCount_RNA', 'nFeature_RNA'\n",
       "    layers: 'RNA_counts', 'RNA_data'"
      ]
     },
     "execution_count": 14,
     "metadata": {},
     "output_type": "execute_result"
    }
   ],
   "source": [
    "pbmc"
   ]
  },
  {
   "cell_type": "code",
   "execution_count": null,
   "metadata": {},
   "outputs": [],
   "source": []
  },
  {
   "cell_type": "markdown",
   "metadata": {},
   "source": [
    "## convert SingleCellExperiment to adata"
   ]
  },
  {
   "cell_type": "code",
   "execution_count": 27,
   "metadata": {},
   "outputs": [],
   "source": [
    "%%R\n",
    "\n",
    "library(SingleCellExperiment)\n",
    "library(DropletUtils)"
   ]
  },
  {
   "cell_type": "code",
   "execution_count": 29,
   "metadata": {},
   "outputs": [
    {
     "name": "stdout",
     "output_type": "stream",
     "text": [
      "class: SingleCellExperiment \n",
      "dim: 32738 2700 \n",
      "metadata(1): Samples\n",
      "assays(1): counts\n",
      "rownames(32738): ENSG00000243485 ENSG00000237613 ... ENSG00000215616\n",
      "  ENSG00000215611\n",
      "rowData names(2): ID Symbol\n",
      "colnames: NULL\n",
      "colData names(2): Sample Barcode\n",
      "reducedDimNames(0):\n",
      "mainExpName: NULL\n",
      "altExpNames(0):\n"
     ]
    }
   ],
   "source": [
    "%%R\n",
    "\n",
    "sce <- read10xCounts(\"/data/user/mowp/data/scRNA/pbmc3k/filtered_gene_bc_matrices/hg19\")\n",
    "sce"
   ]
  },
  {
   "cell_type": "code",
   "execution_count": 31,
   "metadata": {},
   "outputs": [
    {
     "data": {
      "text/plain": [
       "AnnData object with n_obs × n_vars = 2700 × 32738\n",
       "    obs: 'Sample', 'Barcode'\n",
       "    var: 'ID', 'Symbol'\n",
       "    uns: 'Samples'"
      ]
     },
     "execution_count": 31,
     "metadata": {},
     "output_type": "execute_result"
    }
   ],
   "source": [
    "sce = rtools.r2py(ro.globalenv['sce'])\n",
    "sce"
   ]
  },
  {
   "cell_type": "markdown",
   "metadata": {},
   "source": [
    "## convert data.frame to pandas DataFrame"
   ]
  },
  {
   "cell_type": "code",
   "execution_count": 45,
   "metadata": {},
   "outputs": [],
   "source": [
    "%%R\n",
    "\n",
    "data <- data.frame(\n",
    "    x = c(1, 2, 3, 4, 5),\n",
    "    y = c(1, 2, 3, 4, 5)\n",
    ")"
   ]
  },
  {
   "cell_type": "code",
   "execution_count": 47,
   "metadata": {},
   "outputs": [],
   "source": [
    "data = rtools.r2py(ro.globalenv['data'])"
   ]
  },
  {
   "cell_type": "code",
   "execution_count": 48,
   "metadata": {},
   "outputs": [
    {
     "data": {
      "text/html": [
       "<div>\n",
       "<style scoped>\n",
       "    .dataframe tbody tr th:only-of-type {\n",
       "        vertical-align: middle;\n",
       "    }\n",
       "\n",
       "    .dataframe tbody tr th {\n",
       "        vertical-align: top;\n",
       "    }\n",
       "\n",
       "    .dataframe thead th {\n",
       "        text-align: right;\n",
       "    }\n",
       "</style>\n",
       "<table border=\"1\" class=\"dataframe\">\n",
       "  <thead>\n",
       "    <tr style=\"text-align: right;\">\n",
       "      <th></th>\n",
       "      <th>x</th>\n",
       "      <th>y</th>\n",
       "    </tr>\n",
       "  </thead>\n",
       "  <tbody>\n",
       "    <tr>\n",
       "      <th>1</th>\n",
       "      <td>1.0</td>\n",
       "      <td>1.0</td>\n",
       "    </tr>\n",
       "    <tr>\n",
       "      <th>2</th>\n",
       "      <td>2.0</td>\n",
       "      <td>2.0</td>\n",
       "    </tr>\n",
       "    <tr>\n",
       "      <th>3</th>\n",
       "      <td>3.0</td>\n",
       "      <td>3.0</td>\n",
       "    </tr>\n",
       "    <tr>\n",
       "      <th>4</th>\n",
       "      <td>4.0</td>\n",
       "      <td>4.0</td>\n",
       "    </tr>\n",
       "    <tr>\n",
       "      <th>5</th>\n",
       "      <td>5.0</td>\n",
       "      <td>5.0</td>\n",
       "    </tr>\n",
       "  </tbody>\n",
       "</table>\n",
       "</div>"
      ],
      "text/plain": [
       "     x    y\n",
       "1  1.0  1.0\n",
       "2  2.0  2.0\n",
       "3  3.0  3.0\n",
       "4  4.0  4.0\n",
       "5  5.0  5.0"
      ]
     },
     "execution_count": 48,
     "metadata": {},
     "output_type": "execute_result"
    }
   ],
   "source": [
    "data"
   ]
  },
  {
   "cell_type": "markdown",
   "metadata": {},
   "source": [
    "## convert vector to np.array"
   ]
  },
  {
   "cell_type": "code",
   "execution_count": 49,
   "metadata": {},
   "outputs": [],
   "source": [
    "%%R\n",
    "\n",
    "a <- c(1, 2, 3, 4, 5)"
   ]
  },
  {
   "cell_type": "code",
   "execution_count": 50,
   "metadata": {},
   "outputs": [
    {
     "data": {
      "text/plain": [
       "array([1., 2., 3., 4., 5.])"
      ]
     },
     "execution_count": 50,
     "metadata": {},
     "output_type": "execute_result"
    }
   ],
   "source": [
    "a = rtools.r2py(ro.globalenv['a'])\n",
    "a"
   ]
  },
  {
   "cell_type": "markdown",
   "metadata": {},
   "source": [
    "# R plot with r_inline_plot()"
   ]
  },
  {
   "cell_type": "code",
   "execution_count": 6,
   "metadata": {},
   "outputs": [
    {
     "data": {
      "image/png": "[encoded data removed]",
      "text/plain": [
       "<IPython.core.display.Image object>"
      ]
     },
     "metadata": {},
     "output_type": "display_data"
    }
   ],
   "source": [
    "base = importr('base')\n",
    "stats = importr('stats')\n",
    "\n",
    "plot = R.plot\n",
    "rnorm = R.rnorm\n",
    "\n",
    "with rtools.r_inline_plot():\n",
    "    plot(rnorm(100), ylab=\"random\")"
   ]
  },
  {
   "cell_type": "code",
   "execution_count": 15,
   "metadata": {},
   "outputs": [
    {
     "data": {
      "text/html": [
       "<details>\n",
       "<summary>Click to view session information</summary>\n",
       "<pre>\n",
       "-----\n",
       "anndata             0.9.2\n",
       "numpy               1.23.5\n",
       "pandas              1.4.3\n",
       "rpy2                3.5.14\n",
       "rtools              NA\n",
       "scanpy              1.9.5\n",
       "session_info        1.0.0\n",
       "-----\n",
       "</pre>\n",
       "<details>\n",
       "<summary>Click to view modules imported as dependencies</summary>\n",
       "<pre>\n",
       "PIL                 9.4.0\n",
       "anndata2ri          1.3.1\n",
       "argcomplete         NA\n",
       "asttokens           NA\n",
       "attr                23.1.0\n",
       "awkward             2.4.2\n",
       "awkward_cpp         NA\n",
       "backcall            0.2.0\n",
       "cffi                1.15.1\n",
       "comm                0.1.4\n",
       "cycler              0.10.0\n",
       "cython_runtime      NA\n",
       "dateutil            2.8.2\n",
       "debugpy             1.8.0\n",
       "decorator           5.1.1\n",
       "dot_parser          NA\n",
       "etils               1.4.1\n",
       "exceptiongroup      1.1.3\n",
       "executing           1.2.0\n",
       "gmpy2               2.1.2\n",
       "h5py                3.9.0\n",
       "igraph              0.10.8\n",
       "importlib_metadata  NA\n",
       "importlib_resources NA\n",
       "ipykernel           6.25.2\n",
       "ipywidgets          8.1.1\n",
       "jax                 0.4.16\n",
       "jaxlib              0.4.16\n",
       "jedi                0.19.0\n",
       "jinja2              3.1.2\n",
       "joblib              1.3.2\n",
       "kiwisolver          1.4.5\n",
       "leidenalg           0.10.1\n",
       "llvmlite            0.39.1\n",
       "loguru              0.7.2\n",
       "markupsafe          2.1.1\n",
       "matplotlib          3.6.3\n",
       "ml_dtypes           0.2.0\n",
       "mpl_toolkits        NA\n",
       "mpmath              1.3.0\n",
       "mudata              0.2.3\n",
       "muon                0.1.5\n",
       "natsort             8.4.0\n",
       "numba               0.56.4\n",
       "nvfuser             NA\n",
       "opt_einsum          v3.0.0\n",
       "packaging           23.1\n",
       "parso               0.8.3\n",
       "pexpect             4.8.0\n",
       "pickleshare         0.7.5\n",
       "pkg_resources       NA\n",
       "platformdirs        3.10.0\n",
       "prompt_toolkit      3.0.39\n",
       "psutil              5.9.5\n",
       "ptyprocess          0.7.0\n",
       "pure_eval           0.2.2\n",
       "pyarrow             13.0.0\n",
       "pycparser           2.21\n",
       "pydev_ipython       NA\n",
       "pydevconsole        NA\n",
       "pydevd              2.9.5\n",
       "pydevd_file_utils   NA\n",
       "pydevd_plugins      NA\n",
       "pydevd_tracing      NA\n",
       "pydot               1.4.2\n",
       "pygments            2.16.1\n",
       "pynndescent         0.5.5\n",
       "pyparsing           3.1.1\n",
       "pytz                2023.3.post1\n",
       "rich                NA\n",
       "scipy               1.10.1\n",
       "seaborn             0.12.2\n",
       "six                 1.16.0\n",
       "sklearn             1.3.0\n",
       "sparse              0.14.0\n",
       "stack_data          0.6.2\n",
       "statsmodels         0.13.1\n",
       "sympy               1.11.1\n",
       "texttable           1.6.7\n",
       "threadpoolctl       3.2.0\n",
       "torch               2.0.1\n",
       "tornado             6.3.3\n",
       "tqdm                4.66.1\n",
       "traitlets           5.10.0\n",
       "typing_extensions   NA\n",
       "tzlocal             NA\n",
       "umap                0.5.3\n",
       "wcwidth             0.2.6\n",
       "yaml                6.0\n",
       "zipp                NA\n",
       "zmq                 25.1.1\n",
       "zoneinfo            NA\n",
       "</pre>\n",
       "</details> <!-- seems like this ends pre, so might as well be explicit -->\n",
       "<pre>\n",
       "-----\n",
       "IPython             8.15.0\n",
       "jupyter_client      8.3.1\n",
       "jupyter_core        5.3.1\n",
       "-----\n",
       "Python 3.9.18 (main, Sep 11 2023, 13:41:44) [GCC 11.2.0]\n",
       "Linux-6.2.0-32-generic-x86_64-with-glibc2.35\n",
       "-----\n",
       "Session information updated at 2023-10-07 18:46\n",
       "</pre>\n",
       "</details>"
      ],
      "text/plain": [
       "<IPython.core.display.HTML object>"
      ]
     },
     "execution_count": 15,
     "metadata": {},
     "output_type": "execute_result"
    }
   ],
   "source": [
    "import session_info\n",
    "\n",
    "session_info.show()"
   ]
  },
  {
   "cell_type": "code",
   "execution_count": null,
   "metadata": {},
   "outputs": [],
   "source": []
  }
 ],
 "metadata": {
  "kernelspec": {
   "display_name": "sc",
   "language": "python",
   "name": "python3"
  },
  "language_info": {
   "codemirror_mode": {
    "name": "ipython",
    "version": 3
   },
   "file_extension": ".py",
   "mimetype": "text/x-python",
   "name": "python",
   "nbconvert_exporter": "python",
   "pygments_lexer": "ipython3",
   "version": "3.9.18"
  }
 },
 "nbformat": 4,
 "nbformat_minor": 2
}
