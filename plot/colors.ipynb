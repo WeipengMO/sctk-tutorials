{
 "cells": [
  {
   "cell_type": "code",
   "execution_count": 1,
   "metadata": {},
   "outputs": [],
   "source": [
    "import sys\n",
    "sys.path.append('/home/mowp/workspace/mowp_scripts/tools')\n",
    "import sctk"
   ]
  },
  {
   "cell_type": "markdown",
   "metadata": {},
   "source": [
    "# ColorPalette"
   ]
  },
  {
   "cell_type": "code",
   "execution_count": 2,
   "metadata": {},
   "outputs": [
    {
     "data": {
      "text/plain": [
       "ColorPalette object with \"tab20c\" palette, 5 colors\n",
       "\n",
       "Available palettes:\n",
       "    Diverging: 'PiYG', 'PRGn', 'BrBG', 'PuOr', 'RdGy', 'RdBu', 'RdYlBu', 'RdYlGn', 'Spectral', 'coolwarm', 'bwr', 'seismic'\n",
       "    Qualitative: 'Pastel1', 'Pastel2', 'Paired', 'Accent', 'Dark2', 'Set1', 'Set2', 'Set3', 'tab10', 'tab20', 'tab20b','tab20c'\n",
       "\n",
       "More palettes can be found at:\n",
       "    https://matplotlib.org/stable/tutorials/colors/colormaps.html"
      ]
     },
     "execution_count": 2,
     "metadata": {},
     "output_type": "execute_result"
    }
   ],
   "source": [
    "sctk.pl.ColorPalette()"
   ]
  },
  {
   "cell_type": "code",
   "execution_count": 3,
   "metadata": {},
   "outputs": [
    {
     "data": {
      "image/png": "[encoded data removed]",
      "text/plain": [
       "<Figure size 2000x100 with 1 Axes>"
      ]
     },
     "metadata": {},
     "output_type": "display_data"
    }
   ],
   "source": [
    "sctk.pl.ColorPalette(20).palplot()"
   ]
  },
  {
   "cell_type": "code",
   "execution_count": 4,
   "metadata": {},
   "outputs": [
    {
     "data": {
      "image/png": "[encoded data removed]",
      "text/plain": [
       "<Figure size 2000x100 with 1 Axes>"
      ]
     },
     "metadata": {},
     "output_type": "display_data"
    }
   ],
   "source": [
    "sctk.pl.ColorPalette(20, 'Paired').palplot()"
   ]
  },
  {
   "cell_type": "code",
   "execution_count": 5,
   "metadata": {},
   "outputs": [
    {
     "data": {
      "image/png": "[encoded data removed]",
      "text/plain": [
       "<Figure size 500x100 with 1 Axes>"
      ]
     },
     "metadata": {},
     "output_type": "display_data"
    }
   ],
   "source": [
    "sctk.pl.ColorPalette(5, 'PiYG').palplot()"
   ]
  },
  {
   "cell_type": "code",
   "execution_count": 6,
   "metadata": {},
   "outputs": [
    {
     "data": {
      "image/png": "[encoded data removed]",
      "text/plain": [
       "<Figure size 500x100 with 1 Axes>"
      ]
     },
     "metadata": {},
     "output_type": "display_data"
    }
   ],
   "source": [
    "sctk.pl.ColorPalette(5, '#8e0152', '#f6f6f6', '#276419').palplot()"
   ]
  },
  {
   "cell_type": "code",
   "execution_count": 12,
   "metadata": {},
   "outputs": [
    {
     "data": {
      "image/png": "[encoded data removed]",
      "text/html": [
       "<div style=\"vertical-align: middle;\"><strong>color_palette</strong> </div><div class=\"cmap\"><img alt=\"color_palette colormap\" title=\"color_palette\" style=\"border: 1px solid #555;\" src=\"data:image/png;base64,iVBORw0KGgoAAAANSUhEUgAAAgAAAABACAYAAABsv8+/AAAAHHRFWHRUaXRsZQBjb2xvcl9wYWxldHRlIGNvbG9ybWFwo3K/hgAAACJ0RVh0RGVzY3JpcHRpb24AY29sb3JfcGFsZXR0ZSBjb2xvcm1hcD4iUcMAAAAwdEVYdEF1dGhvcgBNYXRwbG90bGliIHYzLjguMSwgaHR0cHM6Ly9tYXRwbG90bGliLm9yZzr4aEEAAAAydEVYdFNvZnR3YXJlAE1hdHBsb3RsaWIgdjMuOC4xLCBodHRwczovL21hdHBsb3RsaWIub3JnFF73ZgAAAUpJREFUeJzt1rENwkAABEFMTW4El4N7ICAylVAeNPCx39LOVHDSJbu8lu1345LW52P2BAbWfZs9gYHj+549gYGPXy7rPnsAAHA+AQAAQQIAAIIEAAAECQAACBIAABAkAAAgSAAAQJAAAIAgAQAAQQIAAIIEAAAECQAACBIAABAkAAAgSAAAQJAAAIAgAQAAQQIAAIIEAAAECQAACBIAABAkAAAgSAAAQJAAAIAgAQAAQQIAAIIEAAAECQAACBIAABAkAAAgSAAAQJAAAIAgAQAAQQIAAIIEAAAECQAACBIAABAkAAAgSAAAQJAAAIAgAQAAQQIAAIIEAAAECQAACBIAABAkAAAgSAAAQJAAAIAgAQAAQQIAAIIEAAAECQAACBIAABAkAAAgSAAAQJAAAIAgAQAAQQIAAIIEAAAECQAACBIAABAkAAAg6A/17ggjzKTssAAAAABJRU5ErkJggg==\"></div><div style=\"vertical-align: middle; max-width: 514px; display: flex; justify-content: space-between;\"><div style=\"float: left;\"><div title=\"#8e0152ff\" style=\"display: inline-block; width: 1em; height: 1em; margin: 0; vertical-align: middle; border: 1px solid #555; background-color: #8e0152ff;\"></div> under</div><div style=\"margin: 0 auto; display: inline-block;\">bad <div title=\"#00000000\" style=\"display: inline-block; width: 1em; height: 1em; margin: 0; vertical-align: middle; border: 1px solid #555; background-color: #00000000;\"></div></div><div style=\"float: right;\">over <div title=\"#276419ff\" style=\"display: inline-block; width: 1em; height: 1em; margin: 0; vertical-align: middle; border: 1px solid #555; background-color: #276419ff;\"></div></div>"
      ],
      "text/plain": [
       "<matplotlib.colors.LinearSegmentedColormap at 0x7f803532a520>"
      ]
     },
     "execution_count": 12,
     "metadata": {},
     "output_type": "execute_result"
    }
   ],
   "source": [
    "sctk.pl.ColorPalette(5, '#8e0152', '#f6f6f6', '#276419').palette"
   ]
  },
  {
   "cell_type": "markdown",
   "metadata": {},
   "source": [
    "# ColorMaps"
   ]
  },
  {
   "cell_type": "code",
   "execution_count": 7,
   "metadata": {},
   "outputs": [
    {
     "data": {
      "text/plain": [
       "ColorMaps object.\n",
       "\n",
       "Available colormaps:\n",
       "    color_names: indigo, wheat, beige, gray, orangered, violet, moccasin, deepskyblue, aquamarine, darkgoldenrod, cyan, bisque, lightseagreen, cadetblue, pink, mediumturquoise, navy, salmon, lightgoldenrodyellow, navajowhite, paleturquoise, powderblue, dimgrey, palevioletred, chocolate, orchid, honeydew, peru, slategray, yellow, sandybrown, darksalmon, lightskyblue, mediumvioletred, darkkhaki, lavenderblush, tomato, steelblue, royalblue, olive, mediumblue, lightcyan, olivedrab, cornflowerblue, white, darkorange, aqua, black, lightpink, darkgrey, forestgreen, darkolivegreen, silver, rosybrown, darkblue, hotpink, cornsilk, darkslategrey, lightblue, mediumaquamarine, lightsteelblue, plum, thistle, firebrick, purple, burlywood, lightslategrey, skyblue, mistyrose, lightcoral, goldenrod, deeppink, lavender, mintcream, grey, lightslategray, maroon, peachpuff, dodgerblue, snow, darkturquoise, blueviolet, saddlebrown, mediumslateblue, red, darkcyan, mediumpurple, palegreen, ghostwhite, darkgreen, greenyellow, gold, whitesmoke, darkseagreen, darkorchid, lightyellow, mediumorchid, linen, ivory, seashell, blue, lightgrey, chartreuse, lime, palegoldenrod, tan, orange, lightgray, fuchsia, slategrey, coral, darkslateblue, crimson, oldlace, papayawhip, lightgreen, mediumseagreen, teal, green, sienna, lemonchiffon, darkslategray, limegreen, mediumspringgreen, khaki, indianred, aliceblue, antiquewhite, turquoise, darkmagenta, blanchedalmond, dimgray, darkviolet, slateblue, brown, floralwhite, magenta, seagreen, springgreen, azure, darkgray, darkred, gainsboro, lawngreen, lightsalmon, yellowgreen, midnightblue\n",
       "    Sequential: 'viridis', 'plasma', 'inferno', 'magma', 'cividis', 'Greys', 'Purples', 'Blues', 'Greens', 'Oranges', 'Reds', 'YlOrBr', 'YlOrRd', 'OrRd', 'PuRd', 'RdPu', 'BuPu', 'GnBu', 'PuBu', 'YlGnBu', 'PuBuGn', 'BuGn', 'YlGn'\n",
       "    Diverging: 'PiYG', 'PRGn', 'BrBG', 'PuOr', 'RdGy', 'RdBu', 'RdYlBu', 'RdYlGn', 'Spectral', 'coolwarm', 'bwr', 'seismic'\n",
       "\n",
       "More cmap can be found at:\n",
       "    https://matplotlib.org/stable/tutorials/colors/colormaps.html"
      ]
     },
     "execution_count": 7,
     "metadata": {},
     "output_type": "execute_result"
    }
   ],
   "source": [
    "sctk.pl.ColorMaps('Blues')"
   ]
  },
  {
   "cell_type": "code",
   "execution_count": 8,
   "metadata": {},
   "outputs": [
    {
     "data": {
      "image/png": "[encoded data removed]",
      "text/plain": [
       "<Figure size 600x50 with 1 Axes>"
      ]
     },
     "metadata": {},
     "output_type": "display_data"
    }
   ],
   "source": [
    "sctk.pl.ColorMaps('darkred', 'grey', 'white').palplot()"
   ]
  },
  {
   "cell_type": "code",
   "execution_count": 9,
   "metadata": {},
   "outputs": [
    {
     "data": {
      "image/png": "[encoded data removed]",
      "text/html": [
       "<div style=\"vertical-align: middle;\"><strong>cmap</strong> </div><div class=\"cmap\"><img alt=\"cmap colormap\" title=\"cmap\" style=\"border: 1px solid #555;\" src=\"data:image/png;base64,iVBORw0KGgoAAAANSUhEUgAAAgAAAABACAYAAABsv8+/AAAAE3RFWHRUaXRsZQBjbWFwIGNvbG9ybWFwtABYOgAAABl0RVh0RGVzY3JpcHRpb24AY21hcCBjb2xvcm1hcD+yyKIAAAAwdEVYdEF1dGhvcgBNYXRwbG90bGliIHYzLjguMSwgaHR0cHM6Ly9tYXRwbG90bGliLm9yZzr4aEEAAAAydEVYdFNvZnR3YXJlAE1hdHBsb3RsaWIgdjMuOC4xLCBodHRwczovL21hdHBsb3RsaWIub3JnFF73ZgAAAj1JREFUeJzt1kFygzAMBVDb6cF6/0vRRYNTBCbp+r+3ychIgmZS5vfWHltrrbXWfz/aeFbPuo/j+aLuz7qVul6fdX8szldzj8vzMevr6/vcqHv2+XY9P1rtu58b9XxbnO/1Nsr1Xvb3MtfLeS9z5bxfnz+P//S1Y99e932ulX3ttm/uL/ep56c9b/a+ztvhfFl/2vfvue36uUp96v+077R3+6j/9Zz1fnV+K39v3VOfo/TX+bl/1Vfuv/et5nqdu987+8b9nl73jMX1/TX27ny+7o57Zz2/0HbZP1+X16/ZP3W/vP7a28tc+aGc5usP/fj/ubp+6l9dP/0jzS/8zZ6xmL+eO5332vdh3e+vb8v7rPaXz9P+4+d2ep7FnuXzr/bW5zjWX4/v37IBAHEEAAAIJAAAQCABAAACCQAAEEgAAIBAAgAABBIAACCQAAAAgQQAAAgkAABAIAEAAAIJAAAQSAAAgEACAAAEEgAAIJAAAACBBAAACCQAAEAgAQAAAgkAABBIAACAQAIAAAQSAAAgkAAAAIEEAAAIJAAAQCABAAACCQAAEEgAAIBAAgAABBIAACCQAAAAgQQAAAgkAABAIAEAAAIJAAAQSAAAgEACAAAEEgAAIJAAAACBBAAACCQAAEAgAQAAAgkAABBIAACAQAIAAAQSAAAgkAAAAIEEAAAIJAAAQCABAAACCQAAEEgAAIBAAgAABBIAACCQAAAAgQQAAAgkAABAIAEAAAIJAAAQSAAAgEACAAAE+gHDkC98Akg5ZgAAAABJRU5ErkJggg==\"></div><div style=\"vertical-align: middle; max-width: 514px; display: flex; justify-content: space-between;\"><div style=\"float: left;\"><div title=\"#000004ff\" style=\"display: inline-block; width: 1em; height: 1em; margin: 0; vertical-align: middle; border: 1px solid #555; background-color: #000004ff;\"></div> under</div><div style=\"margin: 0 auto; display: inline-block;\">bad <div title=\"#00000000\" style=\"display: inline-block; width: 1em; height: 1em; margin: 0; vertical-align: middle; border: 1px solid #555; background-color: #00000000;\"></div></div><div style=\"float: right;\">over <div title=\"#ffffffff\" style=\"display: inline-block; width: 1em; height: 1em; margin: 0; vertical-align: middle; border: 1px solid #555; background-color: #ffffffff;\"></div></div>"
      ],
      "text/plain": [
       "<matplotlib.colors.LinearSegmentedColormap at 0x7f803542ec40>"
      ]
     },
     "execution_count": 9,
     "metadata": {},
     "output_type": "execute_result"
    }
   ],
   "source": [
    "cmap = sctk.pl.ColorMaps('magma', 'white')\n",
    "cmap.cmap"
   ]
  },
  {
   "cell_type": "code",
   "execution_count": 10,
   "metadata": {},
   "outputs": [
    {
     "data": {
      "image/png": "[encoded data removed]",
      "text/html": [
       "<div style=\"vertical-align: middle;\"><strong>cmap</strong> </div><div class=\"cmap\"><img alt=\"cmap colormap\" title=\"cmap\" style=\"border: 1px solid #555;\" src=\"data:image/png;base64,iVBORw0KGgoAAAANSUhEUgAAAgAAAABACAYAAABsv8+/AAAAE3RFWHRUaXRsZQBjbWFwIGNvbG9ybWFwtABYOgAAABl0RVh0RGVzY3JpcHRpb24AY21hcCBjb2xvcm1hcD+yyKIAAAAwdEVYdEF1dGhvcgBNYXRwbG90bGliIHYzLjguMSwgaHR0cHM6Ly9tYXRwbG90bGliLm9yZzr4aEEAAAAydEVYdFNvZnR3YXJlAE1hdHBsb3RsaWIgdjMuOC4xLCBodHRwczovL21hdHBsb3RsaWIub3JnFF73ZgAAAXhJREFUeJzt1kGqwjAUQNHUHf0tui/XVicqdBCMBRH+PWdWSPpKCOVuf9fbPsYY+9jH0bvnh21x3ex92+K62fO2uG4698Pvfc09uW+6/+y5ffu8V+cufsfXz809Pc51Tz/a93T23JbnuqfHuT/6L8Tv6WWyGwD4xwQAAAQJAAAIEgAAECQAACBIAABAkAAAgCABAABBAgAAggQAAAQJAAAIEgAAECQAACBIAABAkAAAgCABAABBAgAAggQAAAQJAAAIEgAAECQAACBIAABAkAAAgCABAABBAgAAggQAAAQJAAAIEgAAECQAACBIAABAkAAAgCABAABBAgAAggQAAAQJAAAIEgAAECQAACBIAABAkAAAgCABAABBAgAAggQAAAQJAAAIEgAAECQAACBIAABAkAAAgCABAABBAgAAggQAAAQJAAAIEgAAECQAACBIAABAkAAAgCABAABBAgAAggQAAAQJAAAIEgAAECQAACBIAABAkAAAgKA7TZVspiQqOwIAAAAASUVORK5CYII=\"></div><div style=\"vertical-align: middle; max-width: 514px; display: flex; justify-content: space-between;\"><div style=\"float: left;\"><div title=\"#3182bdff\" style=\"display: inline-block; width: 1em; height: 1em; margin: 0; vertical-align: middle; border: 1px solid #555; background-color: #3182bdff;\"></div> under</div><div style=\"margin: 0 auto; display: inline-block;\">bad <div title=\"#00000000\" style=\"display: inline-block; width: 1em; height: 1em; margin: 0; vertical-align: middle; border: 1px solid #555; background-color: #00000000;\"></div></div><div style=\"float: right;\">over <div title=\"#30a354ff\" style=\"display: inline-block; width: 1em; height: 1em; margin: 0; vertical-align: middle; border: 1px solid #555; background-color: #30a354ff;\"></div></div>"
      ],
      "text/plain": [
       "<matplotlib.colors.LinearSegmentedColormap at 0x7f8035452ca0>"
      ]
     },
     "execution_count": 10,
     "metadata": {},
     "output_type": "execute_result"
    }
   ],
   "source": [
    "cmap = sctk.pl.ColorMaps('#3182bd', '#30a354')\n",
    "cmap.cmap"
   ]
  },
  {
   "cell_type": "code",
   "execution_count": null,
   "metadata": {},
   "outputs": [],
   "source": []
  }
 ],
 "metadata": {
  "kernelspec": {
   "display_name": "sc",
   "language": "python",
   "name": "python3"
  },
  "language_info": {
   "codemirror_mode": {
    "name": "ipython",
    "version": 3
   },
   "file_extension": ".py",
   "mimetype": "text/x-python",
   "name": "python",
   "nbconvert_exporter": "python",
   "pygments_lexer": "ipython3",
   "version": "3.9.18"
  }
 },
 "nbformat": 4,
 "nbformat_minor": 2
}
